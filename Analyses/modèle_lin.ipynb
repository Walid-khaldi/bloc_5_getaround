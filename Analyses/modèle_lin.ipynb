{
 "cells": [
  {
   "cell_type": "markdown",
   "metadata": {},
   "source": [
    "#### PARTIE 2 : Prédiction des prix de location"
   ]
  },
  {
   "cell_type": "code",
   "execution_count": 1,
   "metadata": {},
   "outputs": [],
   "source": [
    "import pandas as pd\n",
    "import numpy as np\n",
    "from sklearn.model_selection import train_test_split\n",
    "from sklearn.pipeline import Pipeline\n",
    "from sklearn.preprocessing import OneHotEncoder, StandardScaler\n",
    "from sklearn.compose import ColumnTransformer\n",
    "from sklearn.linear_model import LinearRegression\n",
    "from sklearn.metrics import r2_score\n",
    "from sklearn.metrics import mean_squared_error\n"
   ]
  },
  {
   "cell_type": "code",
   "execution_count": 2,
   "metadata": {},
   "outputs": [
    {
     "data": {
      "text/html": [
       "<div>\n",
       "<style scoped>\n",
       "    .dataframe tbody tr th:only-of-type {\n",
       "        vertical-align: middle;\n",
       "    }\n",
       "\n",
       "    .dataframe tbody tr th {\n",
       "        vertical-align: top;\n",
       "    }\n",
       "\n",
       "    .dataframe thead th {\n",
       "        text-align: right;\n",
       "    }\n",
       "</style>\n",
       "<table border=\"1\" class=\"dataframe\">\n",
       "  <thead>\n",
       "    <tr style=\"text-align: right;\">\n",
       "      <th></th>\n",
       "      <th>model_key</th>\n",
       "      <th>mileage</th>\n",
       "      <th>engine_power</th>\n",
       "      <th>fuel</th>\n",
       "      <th>paint_color</th>\n",
       "      <th>car_type</th>\n",
       "      <th>private_parking_available</th>\n",
       "      <th>has_gps</th>\n",
       "      <th>has_air_conditioning</th>\n",
       "      <th>automatic_car</th>\n",
       "      <th>has_getaround_connect</th>\n",
       "      <th>has_speed_regulator</th>\n",
       "      <th>winter_tires</th>\n",
       "      <th>rental_price_per_day</th>\n",
       "    </tr>\n",
       "  </thead>\n",
       "  <tbody>\n",
       "    <tr>\n",
       "      <th>0</th>\n",
       "      <td>Citroën</td>\n",
       "      <td>140411</td>\n",
       "      <td>100</td>\n",
       "      <td>diesel</td>\n",
       "      <td>black</td>\n",
       "      <td>convertible</td>\n",
       "      <td>True</td>\n",
       "      <td>True</td>\n",
       "      <td>False</td>\n",
       "      <td>False</td>\n",
       "      <td>True</td>\n",
       "      <td>True</td>\n",
       "      <td>True</td>\n",
       "      <td>106</td>\n",
       "    </tr>\n",
       "    <tr>\n",
       "      <th>1</th>\n",
       "      <td>Citroën</td>\n",
       "      <td>13929</td>\n",
       "      <td>317</td>\n",
       "      <td>petrol</td>\n",
       "      <td>grey</td>\n",
       "      <td>convertible</td>\n",
       "      <td>True</td>\n",
       "      <td>True</td>\n",
       "      <td>False</td>\n",
       "      <td>False</td>\n",
       "      <td>False</td>\n",
       "      <td>True</td>\n",
       "      <td>True</td>\n",
       "      <td>264</td>\n",
       "    </tr>\n",
       "    <tr>\n",
       "      <th>2</th>\n",
       "      <td>Citroën</td>\n",
       "      <td>183297</td>\n",
       "      <td>120</td>\n",
       "      <td>diesel</td>\n",
       "      <td>white</td>\n",
       "      <td>convertible</td>\n",
       "      <td>False</td>\n",
       "      <td>False</td>\n",
       "      <td>False</td>\n",
       "      <td>False</td>\n",
       "      <td>True</td>\n",
       "      <td>False</td>\n",
       "      <td>True</td>\n",
       "      <td>101</td>\n",
       "    </tr>\n",
       "    <tr>\n",
       "      <th>3</th>\n",
       "      <td>Citroën</td>\n",
       "      <td>128035</td>\n",
       "      <td>135</td>\n",
       "      <td>diesel</td>\n",
       "      <td>red</td>\n",
       "      <td>convertible</td>\n",
       "      <td>True</td>\n",
       "      <td>True</td>\n",
       "      <td>False</td>\n",
       "      <td>False</td>\n",
       "      <td>True</td>\n",
       "      <td>True</td>\n",
       "      <td>True</td>\n",
       "      <td>158</td>\n",
       "    </tr>\n",
       "    <tr>\n",
       "      <th>4</th>\n",
       "      <td>Citroën</td>\n",
       "      <td>97097</td>\n",
       "      <td>160</td>\n",
       "      <td>diesel</td>\n",
       "      <td>silver</td>\n",
       "      <td>convertible</td>\n",
       "      <td>True</td>\n",
       "      <td>True</td>\n",
       "      <td>False</td>\n",
       "      <td>False</td>\n",
       "      <td>False</td>\n",
       "      <td>True</td>\n",
       "      <td>True</td>\n",
       "      <td>183</td>\n",
       "    </tr>\n",
       "  </tbody>\n",
       "</table>\n",
       "</div>"
      ],
      "text/plain": [
       "  model_key  mileage  engine_power    fuel paint_color     car_type  \\\n",
       "0   Citroën   140411           100  diesel       black  convertible   \n",
       "1   Citroën    13929           317  petrol        grey  convertible   \n",
       "2   Citroën   183297           120  diesel       white  convertible   \n",
       "3   Citroën   128035           135  diesel         red  convertible   \n",
       "4   Citroën    97097           160  diesel      silver  convertible   \n",
       "\n",
       "   private_parking_available  has_gps  has_air_conditioning  automatic_car  \\\n",
       "0                       True     True                 False          False   \n",
       "1                       True     True                 False          False   \n",
       "2                      False    False                 False          False   \n",
       "3                       True     True                 False          False   \n",
       "4                       True     True                 False          False   \n",
       "\n",
       "   has_getaround_connect  has_speed_regulator  winter_tires  \\\n",
       "0                   True                 True          True   \n",
       "1                  False                 True          True   \n",
       "2                   True                False          True   \n",
       "3                   True                 True          True   \n",
       "4                  False                 True          True   \n",
       "\n",
       "   rental_price_per_day  \n",
       "0                   106  \n",
       "1                   264  \n",
       "2                   101  \n",
       "3                   158  \n",
       "4                   183  "
      ]
     },
     "execution_count": 2,
     "metadata": {},
     "output_type": "execute_result"
    }
   ],
   "source": [
    "dataset = pd.read_csv('get_around_pricing_project.csv')\n",
    "dataset.drop(['Unnamed: 0'], axis=1, inplace=True)\n",
    "dataset.head()"
   ]
  },
  {
   "cell_type": "code",
   "execution_count": 3,
   "metadata": {},
   "outputs": [
    {
     "data": {
      "text/plain": [
       "model_key                    0\n",
       "mileage                      0\n",
       "engine_power                 0\n",
       "fuel                         0\n",
       "paint_color                  0\n",
       "car_type                     0\n",
       "private_parking_available    0\n",
       "has_gps                      0\n",
       "has_air_conditioning         0\n",
       "automatic_car                0\n",
       "has_getaround_connect        0\n",
       "has_speed_regulator          0\n",
       "winter_tires                 0\n",
       "rental_price_per_day         0\n",
       "dtype: int64"
      ]
     },
     "execution_count": 3,
     "metadata": {},
     "output_type": "execute_result"
    }
   ],
   "source": [
    "dataset.isna().sum()\n"
   ]
  },
  {
   "cell_type": "markdown",
   "metadata": {},
   "source": [
    "## partie ML : REGRESSION LINEAIRE"
   ]
  },
  {
   "cell_type": "code",
   "execution_count": 4,
   "metadata": {},
   "outputs": [
    {
     "name": "stdout",
     "output_type": "stream",
     "text": [
      "Separating labels from features...\n",
      "...Done\n",
      "\n",
      "y:\n",
      "   rental_price_per_day\n",
      "0                   106\n",
      "1                   264\n",
      "2                   101\n",
      "3                   158\n",
      "4                   183\n",
      "\n",
      "X:\n",
      "  model_key  mileage  engine_power    fuel paint_color     car_type  \\\n",
      "0   Citroën   140411           100  diesel       black  convertible   \n",
      "1   Citroën    13929           317  petrol        grey  convertible   \n",
      "2   Citroën   183297           120  diesel       white  convertible   \n",
      "3   Citroën   128035           135  diesel         red  convertible   \n",
      "4   Citroën    97097           160  diesel      silver  convertible   \n",
      "\n",
      "   private_parking_available  has_gps  has_air_conditioning  automatic_car  \\\n",
      "0                       True     True                 False          False   \n",
      "1                       True     True                 False          False   \n",
      "2                      False    False                 False          False   \n",
      "3                       True     True                 False          False   \n",
      "4                       True     True                 False          False   \n",
      "\n",
      "   has_getaround_connect  has_speed_regulator  winter_tires  \n",
      "0                   True                 True          True  \n",
      "1                  False                 True          True  \n",
      "2                   True                False          True  \n",
      "3                   True                 True          True  \n",
      "4                  False                 True          True  \n",
      "\n"
     ]
    }
   ],
   "source": [
    "# Seperate target variable y from features X:\n",
    "target_variable = ['rental_price_per_day']\n",
    "print('Separating labels from features...')\n",
    "y = dataset.loc[:,target_variable]\n",
    "X = dataset.drop(target_variable, axis = 1)\n",
    "print('...Done')\n",
    "print()\n",
    "print('y:')\n",
    "print(y.head())\n",
    "print()\n",
    "print('X:')\n",
    "print(X.head())\n",
    "print()"
   ]
  },
  {
   "cell_type": "code",
   "execution_count": 5,
   "metadata": {},
   "outputs": [
    {
     "name": "stdout",
     "output_type": "stream",
     "text": [
      "Dividing into train set and test set...\n",
      "...Done\n",
      "\n"
     ]
    }
   ],
   "source": [
    "print('Dividing into train set and test set...')\n",
    "X_train, X_test, y_train, y_test = train_test_split(X, y, test_size=0.2, random_state=0)\n",
    "print('...Done')\n",
    "print()"
   ]
  },
  {
   "cell_type": "code",
   "execution_count": 6,
   "metadata": {},
   "outputs": [
    {
     "data": {
      "text/plain": [
       "model_key                    object\n",
       "mileage                       int64\n",
       "engine_power                  int64\n",
       "fuel                         object\n",
       "paint_color                  object\n",
       "car_type                     object\n",
       "private_parking_available      bool\n",
       "has_gps                        bool\n",
       "has_air_conditioning           bool\n",
       "automatic_car                  bool\n",
       "has_getaround_connect          bool\n",
       "has_speed_regulator            bool\n",
       "winter_tires                   bool\n",
       "rental_price_per_day          int64\n",
       "dtype: object"
      ]
     },
     "execution_count": 6,
     "metadata": {},
     "output_type": "execute_result"
    }
   ],
   "source": [
    "dataset.dtypes\n"
   ]
  },
  {
   "cell_type": "code",
   "execution_count": 7,
   "metadata": {},
   "outputs": [],
   "source": [
    "# Distinguish numeric and categorical features:\n",
    "numeric_features = ['mileage', 'engine_power']\n",
    "categorical_features = ['model_key', 'fuel', 'paint_color', 'car_type', 'private_parking_available', 'has_gps', 'has_air_conditioning', 'automatic_car', 'has_getaround_connect', 'has_speed_regulator', 'winter_tires']\n",
    "\n",
    "# Create pipeline for numeric features:\n",
    "numeric_transformer = Pipeline(steps=[\n",
    "    ('scaler', StandardScaler())\n",
    "])\n",
    "\n",
    "# Create pipeline for categorical features:\n",
    "categorical_transformer = Pipeline(steps=[\n",
    "    ('encoder', OneHotEncoder(drop='first', handle_unknown='ignore'))\n",
    "])\n",
    "\n",
    "# Use ColumnTransformer to make a preprocessor object that describes all the treatments to be done:\n",
    "preprocessor = ColumnTransformer(\n",
    "    transformers=[\n",
    "        ('num', numeric_transformer, numeric_features),\n",
    "        ('cat', categorical_transformer, categorical_features)\n",
    "    ]\n",
    ")"
   ]
  },
  {
   "cell_type": "code",
   "execution_count": 8,
   "metadata": {},
   "outputs": [
    {
     "name": "stdout",
     "output_type": "stream",
     "text": [
      "Performing preprocessings on train set...\n",
      "     model_key  mileage  engine_power    fuel paint_color car_type  \\\n",
      "4550       BMW   132485           135  diesel       white      suv   \n",
      "1237   Citroën   131121           135  diesel       black   estate   \n",
      "3158   Renault   209216           135  diesel        grey    sedan   \n",
      "900    Peugeot   148986           100  diesel       black   estate   \n",
      "933    Citroën   170500           135  diesel       black   estate   \n",
      "\n",
      "      private_parking_available  has_gps  has_air_conditioning  automatic_car  \\\n",
      "4550                       True     True                 False          False   \n",
      "1237                      False     True                 False          False   \n",
      "3158                       True     True                 False          False   \n",
      "900                        True     True                 False          False   \n",
      "933                        True     True                 False          False   \n",
      "\n",
      "      has_getaround_connect  has_speed_regulator  winter_tires  \n",
      "4550                  False                False          True  \n",
      "1237                   True                False          True  \n",
      "3158                   True                False          True  \n",
      "900                   False                False          True  \n",
      "933                   False                False          True  \n",
      "...Done\n",
      "  (0, 0)\t-0.13697524611219603\n",
      "  (0, 1)\t0.16120867170881872\n",
      "  (0, 3)\t1.0\n",
      "  (0, 38)\t1.0\n",
      "  (0, 44)\t1.0\n",
      "  (0, 46)\t1.0\n",
      "  (0, 47)\t1.0\n",
      "  (0, 52)\t1.0\n",
      "  (1, 0)\t-0.1601928122265152\n",
      "  (1, 1)\t0.16120867170881872\n",
      "  (1, 4)\t1.0\n",
      "  (1, 30)\t1.0\n",
      "  (1, 40)\t1.0\n",
      "  (1, 47)\t1.0\n",
      "  (1, 50)\t1.0\n",
      "  (1, 52)\t1.0\n",
      "  (2, 0)\t1.1691149778744785\n",
      "  (2, 1)\t0.16120867170881872\n",
      "  (2, 20)\t1.0\n",
      "  (2, 34)\t1.0\n",
      "  (2, 42)\t1.0\n",
      "  (2, 46)\t1.0\n",
      "  (2, 47)\t1.0\n",
      "  (2, 50)\t1.0\n",
      "  (2, 52)\t1.0\n",
      "  (3, 0)\t0.14389943017254048\n",
      "  (3, 1)\t-0.7407589686724106\n",
      "  (3, 18)\t1.0\n",
      "  (3, 30)\t1.0\n",
      "  (3, 40)\t1.0\n",
      "  (3, 46)\t1.0\n",
      "  (3, 47)\t1.0\n",
      "  (3, 52)\t1.0\n",
      "  (4, 0)\t0.510103768430211\n",
      "  (4, 1)\t0.16120867170881872\n",
      "  (4, 4)\t1.0\n",
      "  (4, 30)\t1.0\n",
      "  (4, 40)\t1.0\n",
      "  (4, 46)\t1.0\n",
      "  (4, 47)\t1.0\n",
      "  (4, 52)\t1.0\n",
      "\n"
     ]
    }
   ],
   "source": [
    "# Preprocessings on train set:\n",
    "print('Performing preprocessings on train set...')\n",
    "print(X_train.head())\n",
    "X_train = preprocessor.fit_transform(X_train)\n",
    "print('...Done')\n",
    "print(X_train[0:5])\n",
    "print()\n"
   ]
  },
  {
   "cell_type": "code",
   "execution_count": 9,
   "metadata": {},
   "outputs": [
    {
     "name": "stdout",
     "output_type": "stream",
     "text": [
      "Performing preprocessings on test set:\n",
      "     model_key  mileage  engine_power    fuel paint_color   car_type  \\\n",
      "1621   Renault   193231            85  diesel       black     estate   \n",
      "4098       BMW    69362           135  diesel        grey        suv   \n",
      "3135      Audi   321498           170  diesel        blue      sedan   \n",
      "1861   Citroën   192063            90  diesel       black  hatchback   \n",
      "1571   Peugeot   164659           100  diesel       white     estate   \n",
      "\n",
      "      private_parking_available  has_gps  has_air_conditioning  automatic_car  \\\n",
      "1621                      False     True                 False          False   \n",
      "4098                       True     True                 False           True   \n",
      "3135                       True     True                  True          False   \n",
      "1861                      False    False                 False          False   \n",
      "1571                       True     True                 False          False   \n",
      "\n",
      "      has_getaround_connect  has_speed_regulator  winter_tires  \n",
      "1621                  False                False          True  \n",
      "4098                   True                 True          True  \n",
      "3135                   True                 True          True  \n",
      "1861                  False                False          True  \n",
      "1571                  False                False          True  \n",
      "...Done\n",
      "  (0, 0)\t0.8970234864247778\n",
      "  (0, 1)\t-1.1273165288357947\n",
      "  (0, 20)\t1.0\n",
      "  (0, 30)\t1.0\n",
      "  (0, 40)\t1.0\n",
      "  (0, 47)\t1.0\n",
      "  (0, 52)\t1.0\n",
      "  (1, 0)\t-1.2114345025888595\n",
      "  (1, 1)\t0.16120867170881872\n",
      "  (1, 3)\t1.0\n",
      "  (1, 34)\t1.0\n",
      "  (1, 44)\t1.0\n",
      "  (1, 46)\t1.0\n",
      "  (1, 47)\t1.0\n",
      "  (1, 49)\t1.0\n",
      "  (1, 50)\t1.0\n",
      "  (1, 51)\t1.0\n",
      "  (1, 52)\t1.0\n",
      "  (2, 0)\t3.080342806648661\n",
      "  (2, 1)\t1.0631763120900481\n",
      "  (2, 2)\t1.0\n",
      "  (2, 31)\t1.0\n",
      "  (2, 42)\t1.0\n",
      "  (2, 46)\t1.0\n",
      "  (2, 47)\t1.0\n",
      "  (2, 48)\t1.0\n",
      "  (2, 50)\t1.0\n",
      "  (2, 51)\t1.0\n",
      "  (2, 52)\t1.0\n",
      "  (3, 0)\t0.8771421688136892\n",
      "  (3, 1)\t-0.9984640087813332\n",
      "  (3, 4)\t1.0\n",
      "  (3, 30)\t1.0\n",
      "  (3, 41)\t1.0\n",
      "  (3, 52)\t1.0\n",
      "  (4, 0)\t0.41068015869873137\n",
      "  (4, 1)\t-0.7407589686724106\n",
      "  (4, 18)\t1.0\n",
      "  (4, 38)\t1.0\n",
      "  (4, 40)\t1.0\n",
      "  (4, 46)\t1.0\n",
      "  (4, 47)\t1.0\n",
      "  (4, 52)\t1.0\n",
      "\n"
     ]
    },
    {
     "name": "stderr",
     "output_type": "stream",
     "text": [
      "c:\\Users\\walid\\Documents\\anaconda\\Lib\\site-packages\\sklearn\\preprocessing\\_encoders.py:227: UserWarning: Found unknown categories in columns [0] during transform. These unknown categories will be encoded as all zeros\n",
      "  warnings.warn(\n"
     ]
    }
   ],
   "source": [
    "# Preprocessings on test set:\n",
    "print('Performing preprocessings on test set:')\n",
    "print(X_test.head())\n",
    "X_test = preprocessor.transform(X_test)\n",
    "print('...Done')\n",
    "print(X_test[0:5])\n",
    "print()"
   ]
  },
  {
   "cell_type": "code",
   "execution_count": 10,
   "metadata": {},
   "outputs": [
    {
     "name": "stdout",
     "output_type": "stream",
     "text": [
      "Training model...\n",
      "...Done\n"
     ]
    }
   ],
   "source": [
    "# Model training:\n",
    "baseline = LinearRegression()\n",
    "print('Training model...')\n",
    "baseline.fit(X_train, y_train)\n",
    "print('...Done')"
   ]
  },
  {
   "cell_type": "code",
   "execution_count": 11,
   "metadata": {},
   "outputs": [
    {
     "name": "stdout",
     "output_type": "stream",
     "text": [
      "Prediction on training set...\n",
      "...Done\n",
      "[[132.11478176]\n",
      " [118.97967388]\n",
      " [118.29212235]\n",
      " [101.04453758]\n",
      " [104.69672123]]\n",
      "\n"
     ]
    }
   ],
   "source": [
    "# Predictions on training set:\n",
    "print('Prediction on training set...')\n",
    "y_train_pred = baseline.predict(X_train)\n",
    "print('...Done')\n",
    "print(y_train_pred[0:5])\n",
    "print()"
   ]
  },
  {
   "cell_type": "code",
   "execution_count": 12,
   "metadata": {},
   "outputs": [
    {
     "name": "stdout",
     "output_type": "stream",
     "text": [
      "Prediction on test set...\n",
      "...Done\n",
      "[[ 91.36921014]\n",
      " [157.5651874 ]\n",
      " [105.17960609]\n",
      " [ 72.22064487]\n",
      " [100.58727665]]\n",
      "\n"
     ]
    }
   ],
   "source": [
    "# Predictions on test set:\n",
    "print('Prediction on test set...')\n",
    "y_test_pred = baseline.predict(X_test)\n",
    "print('...Done')\n",
    "print(y_test_pred[0:5])\n",
    "print()"
   ]
  },
  {
   "cell_type": "code",
   "execution_count": 13,
   "metadata": {},
   "outputs": [],
   "source": [
    "r2 = baseline.score(X_train, y_train)\n",
    "r2_test = baseline.score(X_test, y_test)\n",
    "mse = mean_squared_error(y_train, y_train_pred)\n",
    "mse_test = mean_squared_error(y_test, y_test_pred)"
   ]
  },
  {
   "cell_type": "code",
   "execution_count": 14,
   "metadata": {},
   "outputs": [
    {
     "name": "stdout",
     "output_type": "stream",
     "text": [
      "BASELINE, R2 score on train set: 0.7156703436007354\n",
      "BASELINE, R2 score on test set: 0.6892822414219673\n",
      "\n",
      "BASELINE, MSE score on train set :  323.212846390203\n",
      "BASELINE, MSE score on test set :  337.41830119841796\n",
      "\n",
      "BASELINE, RMSE score on train set :  17.978121325383334\n",
      "BASELINE, RMSE score on test set :  18.36894937655439\n"
     ]
    }
   ],
   "source": [
    "print('BASELINE, R2 score on train set:', baseline.score(X_train, y_train))\n",
    "print('BASELINE, R2 score on test set:', baseline.score(X_test, y_test))\n",
    "print()\n",
    "print(\"BASELINE, MSE score on train set : \", mse)\n",
    "print(\"BASELINE, MSE score on test set : \", mse_test)\n",
    "print()\n",
    "print(\"BASELINE, RMSE score on train set : \", np.sqrt(mse))\n",
    "print(\"BASELINE, RMSE score on test set : \", np.sqrt(mse_test))"
   ]
  },
  {
   "cell_type": "markdown",
   "metadata": {},
   "source": [
    "BASELINE, R2 score on train set: 0.7156703436007354\n",
    "BASELINE, R2 score on test set: 0.6892822414219673"
   ]
  },
  {
   "cell_type": "code",
   "execution_count": 15,
   "metadata": {},
   "outputs": [],
   "source": [
    "feature_names_out = preprocessor.get_feature_names_out()\n",
    "feature_names = [fname for fname in feature_names_out]\n",
    "coefs = pd.DataFrame(index = feature_names, data = baseline.coef_.transpose(), columns=[\"coefficients\"])"
   ]
  },
  {
   "cell_type": "code",
   "execution_count": 16,
   "metadata": {},
   "outputs": [],
   "source": [
    "feature_importance = coefs.sort_values(by='coefficients', ascending=False)"
   ]
  },
  {
   "cell_type": "code",
   "execution_count": 17,
   "metadata": {},
   "outputs": [
    {
     "data": {
      "text/html": [
       "<div>\n",
       "<style scoped>\n",
       "    .dataframe tbody tr th:only-of-type {\n",
       "        vertical-align: middle;\n",
       "    }\n",
       "\n",
       "    .dataframe tbody tr th {\n",
       "        vertical-align: top;\n",
       "    }\n",
       "\n",
       "    .dataframe thead th {\n",
       "        text-align: right;\n",
       "    }\n",
       "</style>\n",
       "<table border=\"1\" class=\"dataframe\">\n",
       "  <thead>\n",
       "    <tr style=\"text-align: right;\">\n",
       "      <th></th>\n",
       "      <th>cat__model_key_Honda</th>\n",
       "      <th>cat__model_key_Suzuki</th>\n",
       "      <th>cat__fuel_hybrid_petrol</th>\n",
       "      <th>cat__model_key_Maserati</th>\n",
       "      <th>cat__model_key_Yamaha</th>\n",
       "      <th>cat__model_key_SEAT</th>\n",
       "      <th>cat__model_key_Fiat</th>\n",
       "      <th>cat__model_key_Toyota</th>\n",
       "      <th>cat__car_type_van</th>\n",
       "      <th>cat__model_key_Opel</th>\n",
       "      <th>...</th>\n",
       "      <th>cat__paint_color_red</th>\n",
       "      <th>cat__car_type_sedan</th>\n",
       "      <th>cat__model_key_Nissan</th>\n",
       "      <th>cat__paint_color_brown</th>\n",
       "      <th>cat__paint_color_blue</th>\n",
       "      <th>cat__has_air_conditioning_True</th>\n",
       "      <th>cat__private_parking_available_True</th>\n",
       "      <th>cat__model_key_Lamborghini</th>\n",
       "      <th>cat__paint_color_black</th>\n",
       "      <th>cat__paint_color_grey</th>\n",
       "    </tr>\n",
       "  </thead>\n",
       "  <tbody>\n",
       "    <tr>\n",
       "      <th>coefficients</th>\n",
       "      <td>63.341486</td>\n",
       "      <td>40.058804</td>\n",
       "      <td>38.533723</td>\n",
       "      <td>36.695844</td>\n",
       "      <td>36.526594</td>\n",
       "      <td>34.294367</td>\n",
       "      <td>32.964872</td>\n",
       "      <td>28.045736</td>\n",
       "      <td>26.01993</td>\n",
       "      <td>24.431298</td>\n",
       "      <td>...</td>\n",
       "      <td>3.013689</td>\n",
       "      <td>2.64988</td>\n",
       "      <td>2.385715</td>\n",
       "      <td>2.229495</td>\n",
       "      <td>1.925508</td>\n",
       "      <td>1.19843</td>\n",
       "      <td>0.645288</td>\n",
       "      <td>0.562754</td>\n",
       "      <td>0.476999</td>\n",
       "      <td>0.410985</td>\n",
       "    </tr>\n",
       "  </tbody>\n",
       "</table>\n",
       "<p>1 rows × 53 columns</p>\n",
       "</div>"
      ],
      "text/plain": [
       "              cat__model_key_Honda  cat__model_key_Suzuki  \\\n",
       "coefficients             63.341486              40.058804   \n",
       "\n",
       "              cat__fuel_hybrid_petrol  cat__model_key_Maserati  \\\n",
       "coefficients                38.533723                36.695844   \n",
       "\n",
       "              cat__model_key_Yamaha  cat__model_key_SEAT  cat__model_key_Fiat  \\\n",
       "coefficients              36.526594            34.294367            32.964872   \n",
       "\n",
       "              cat__model_key_Toyota  cat__car_type_van  cat__model_key_Opel  \\\n",
       "coefficients              28.045736           26.01993            24.431298   \n",
       "\n",
       "              ...  cat__paint_color_red  cat__car_type_sedan  \\\n",
       "coefficients  ...              3.013689              2.64988   \n",
       "\n",
       "              cat__model_key_Nissan  cat__paint_color_brown  \\\n",
       "coefficients               2.385715                2.229495   \n",
       "\n",
       "              cat__paint_color_blue  cat__has_air_conditioning_True  \\\n",
       "coefficients               1.925508                         1.19843   \n",
       "\n",
       "              cat__private_parking_available_True  cat__model_key_Lamborghini  \\\n",
       "coefficients                             0.645288                    0.562754   \n",
       "\n",
       "              cat__paint_color_black  cat__paint_color_grey  \n",
       "coefficients                0.476999               0.410985  \n",
       "\n",
       "[1 rows x 53 columns]"
      ]
     },
     "execution_count": 17,
     "metadata": {},
     "output_type": "execute_result"
    }
   ],
   "source": [
    "feature_importance_abs = abs(coefs).sort_values(by='coefficients', ascending=False)\n",
    "feature_importance_abs = feature_importance_abs.transpose()\n",
    "feature_importance_abs"
   ]
  },
  {
   "cell_type": "code",
   "execution_count": 18,
   "metadata": {},
   "outputs": [
    {
     "data": {
      "image/png": "[encoded data removed]",
      "text/plain": [
       "<Figure size 1200x500 with 1 Axes>"
      ]
     },
     "metadata": {},
     "output_type": "display_data"
    }
   ],
   "source": [
    "import seaborn as sns\n",
    "import matplotlib.pyplot as plt\n",
    "\n",
    "# Example with built-in palette\n",
    "sns.set(rc={'figure.figsize': (12, 5)}, style='white')\n",
    "sns.barplot(data=feature_importance_abs, orient='v', palette='viridis', width=.9, edgecolor='black')\n",
    "plt.title('Features importance in the Baseline Model', fontsize=12.5, pad=20)\n",
    "plt.xlabel('Colors: red for negative coefficients / green for positive coefficients', fontsize=11)\n",
    "plt.show()\n"
   ]
  },
  {
   "cell_type": "markdown",
   "metadata": {},
   "source": [
    "### Dans la partie modèle_xgb nous t'entterons d'avoir un meilleur R2 scrore...."
   ]
  }
 ],
 "metadata": {
  "kernelspec": {
   "display_name": "Python 3",
   "language": "python",
   "name": "python3"
  },
  "language_info": {
   "codemirror_mode": {
    "name": "ipython",
    "version": 3
   },
   "file_extension": ".py",
   "mimetype": "text/x-python",
   "name": "python",
   "nbconvert_exporter": "python",
   "pygments_lexer": "ipython3",
   "version": "3.11.5"
  }
 },
 "nbformat": 4,
 "nbformat_minor": 2
}
