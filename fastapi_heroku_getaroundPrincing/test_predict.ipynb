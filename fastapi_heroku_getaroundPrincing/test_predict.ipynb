{
 "cells": [
  {
   "cell_type": "code",
   "execution_count": 1,
   "metadata": {},
   "outputs": [
    {
     "name": "stdout",
     "output_type": "stream",
     "text": [
      "Prediction: {'predictions': 151.20782470703125}\n"
     ]
    }
   ],
   "source": [
    "import requests\n",
    "\n",
    "# URL de votre application Heroku\n",
    "url = \"https://fastapi-pricing-predict-model-72570a8b8d37.herokuapp.com/predict\"\n",
    "\n",
    "# Exemple d'entrée\n",
    "example_input = {\n",
    "    \"model_key\": \"Peugeot\",\n",
    "    \"mileage\": 14699,\n",
    "    \"engine_power\": 100,\n",
    "    \"fuel\": \"diesel\",\n",
    "    \"paint_color\": \"black\",\n",
    "    \"car_type\": \"sedan\",\n",
    "    \"private_parking_available\": False,\n",
    "    \"has_gps\": True,\n",
    "    \"has_air_conditioning\": False,\n",
    "    \"automatic_car\": False,\n",
    "    \"has_getaround_connect\": False,\n",
    "    \"has_speed_regulator\": True,\n",
    "    \"winter_tires\": True\n",
    "}\n",
    "\n",
    "# Envoyer une requête POST à l'API\n",
    "response = requests.post(url, json=example_input)\n",
    "\n",
    "# Afficher la réponse\n",
    "if response.status_code == 200:\n",
    "    print(\"Prediction:\", response.json())\n",
    "else:\n",
    "    print(\"Failed to get a response. Status code:\", response.status_code)\n",
    "    print(\"Response:\",response.text)"
   ]
  }
 ],
 "metadata": {
  "kernelspec": {
   "display_name": "Python 3",
   "language": "python",
   "name": "python3"
  },
  "language_info": {
   "codemirror_mode": {
    "name": "ipython",
    "version": 3
   },
   "file_extension": ".py",
   "mimetype": "text/x-python",
   "name": "python",
   "nbconvert_exporter": "python",
   "pygments_lexer": "ipython3",
   "version": "3.11.5"
  }
 },
 "nbformat": 4,
 "nbformat_minor": 2
}
